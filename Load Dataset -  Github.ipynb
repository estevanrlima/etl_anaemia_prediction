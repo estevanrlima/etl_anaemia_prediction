{
 "cells": [
  {
   "cell_type": "markdown",
   "metadata": {
    "application/vnd.databricks.v1+cell": {
     "cellMetadata": {},
     "inputWidgets": {},
     "nuid": "3468c2ca-453d-4edd-b092-5bc1c1bb4e24",
     "showTitle": false,
     "title": ""
    }
   },
   "source": [
    "### Importando as bibliotecas"
   ]
  },
  {
   "cell_type": "code",
   "execution_count": null,
   "metadata": {
    "application/vnd.databricks.v1+cell": {
     "cellMetadata": {
      "byteLimit": 2048000,
      "rowLimit": 10000
     },
     "inputWidgets": {},
     "nuid": "6eb977af-2f3f-487d-9b86-db9dee5c8fad",
     "showTitle": false,
     "title": ""
    }
   },
   "outputs": [],
   "source": [
    "import os\n",
    "from pyspark.sql import SparkSession\n",
    "from pyspark.sql.functions import col, when"
   ]
  },
  {
   "cell_type": "markdown",
   "metadata": {
    "application/vnd.databricks.v1+cell": {
     "cellMetadata": {
      "byteLimit": 2048000,
      "rowLimit": 10000
     },
     "inputWidgets": {},
     "nuid": "5002c642-ced0-4a7e-af2e-b07973edf171",
     "showTitle": false,
     "title": ""
    }
   },
   "source": [
    "### Configurações do banco de dados"
   ]
  },
  {
   "cell_type": "code",
   "execution_count": null,
   "metadata": {
    "application/vnd.databricks.v1+cell": {
     "cellMetadata": {
      "byteLimit": 2048000,
      "rowLimit": 10000
     },
     "inputWidgets": {},
     "nuid": "18442d5b-6722-4ec5-999e-9a775c1a3dc4",
     "showTitle": false,
     "title": ""
    }
   },
   "outputs": [],
   "source": [
    "# Configurações do MySQL a partir das variáveis de ambiente\n",
    "mysql_host = os.getenv('MYSQL_HOST')\n",
    "mysql_port = int(os.getenv('MYSQL_PORT'))\n",
    "mysql_user = os.getenv('MYSQL_USER')\n",
    "mysql_password = os.getenv('MYSQL_PASSWORD')\n",
    "mysql_db = os.getenv('MYSQL_DB')\n",
    "mysql_table = os.getenv('MYSQL_TABLE')\n"
   ]
  },
  {
   "cell_type": "markdown",
   "metadata": {
    "application/vnd.databricks.v1+cell": {
     "cellMetadata": {},
     "inputWidgets": {},
     "nuid": "ce61387d-9910-404e-88cf-8306863dd99e",
     "showTitle": false,
     "title": ""
    }
   },
   "source": [
    "### Reading the dataset"
   ]
  },
  {
   "cell_type": "code",
   "execution_count": null,
   "metadata": {
    "application/vnd.databricks.v1+cell": {
     "cellMetadata": {
      "byteLimit": 2048000,
      "rowLimit": 10000
     },
     "inputWidgets": {},
     "nuid": "dd7b8634-1d44-432b-8a78-e5668c1a4095",
     "showTitle": false,
     "title": ""
    }
   },
   "outputs": [],
   "source": [
    "\n",
    "df = spark.read.format(\"csv\").option(\"header\", \"true\").load(\"dbfs:/FileStore/shared_uploads/estevanlima16@gmail.com/anaemia_prediction.csv\")\n",
    "\n"
   ]
  },
  {
   "cell_type": "code",
   "execution_count": null,
   "metadata": {
    "application/vnd.databricks.v1+cell": {
     "cellMetadata": {
      "byteLimit": 2048000,
      "rowLimit": 10000
     },
     "inputWidgets": {},
     "nuid": "ef549bae-b53f-42f0-982a-00e54541918e",
     "showTitle": false,
     "title": ""
    }
   },
   "outputs": [
    {
     "name": "stdout",
     "output_type": "stream",
     "text": [
      "+------+---+----------+------------+-----------+----+-------+\n",
      "|Number|Sex|%Red Pixel|%Green pixel|%Blue pixel|  Hb|Anaemic|\n",
      "+------+---+----------+------------+-----------+----+-------+\n",
      "|     1|  M|   43.2555|     30.8421|    25.9025| 6.3|    Yes|\n",
      "|     2|  F|   45.6033|       28.19|    26.2067|13.5|     No|\n",
      "|     3| F |   45.0107|     28.9677|    26.0215|11.7|     No|\n",
      "|     4|  F|   44.5398|     28.9899|    26.4703|13.5|     No|\n",
      "|     5| M |    43.287|     30.6972|    26.0158|12.4|     No|\n",
      "|     6|  M|   45.0994|     27.9645|    26.9361|16.2|     No|\n",
      "|     7|  F|   43.1457|     30.1628|    26.6915| 8.6|    Yes|\n",
      "|     8| F |   43.6103|     29.1099|    27.2798|10.3|     No|\n",
      "|     9|  F|   45.0423|      29.166|    25.7918|  13|     No|\n",
      "|    10|  F|   46.5143|     27.4282|    26.0575| 9.7|    Yes|\n",
      "|    11|  F|   45.3506|     29.1248|    25.5246|12.6|     No|\n",
      "|    12|  F|   44.4062|     28.9298|     26.664|15.4|     No|\n",
      "|    13|  F|   44.9642|     30.5279|    24.5079| 4.8|    Yes|\n",
      "|    14| M |   45.0484|     31.1049|    23.8467|   9|    Yes|\n",
      "|    15| M |   46.9942|     26.0496|    26.9562|14.6|     No|\n",
      "|    16|  M|   45.5842|     28.7311|    25.6848|  14|     No|\n",
      "|    17|  F|   42.5358|     30.1604|    27.3039|  10|    Yes|\n",
      "|    18|  F|   44.0957|     29.9973|     25.907| 8.3|    Yes|\n",
      "|    19|  F|   45.7104|     27.5693|    26.7204|13.6|     No|\n",
      "|    20| F |   40.9365|     31.9687|    27.0948| 9.9|    Yes|\n",
      "+------+---+----------+------------+-----------+----+-------+\n",
      "only showing top 20 rows\n",
      "\n"
     ]
    }
   ],
   "source": [
    "# Exibir o DataFrame para verificar se os dados foram lidos corretamente\n",
    "df.show()"
   ]
  },
  {
   "cell_type": "markdown",
   "metadata": {
    "application/vnd.databricks.v1+cell": {
     "cellMetadata": {
      "byteLimit": 2048000,
      "rowLimit": 10000
     },
     "inputWidgets": {},
     "nuid": "42ecf181-416e-4aa2-b437-e2dca5bf3fb5",
     "showTitle": false,
     "title": ""
    }
   },
   "source": [
    "### Preparing data"
   ]
  },
  {
   "cell_type": "code",
   "execution_count": null,
   "metadata": {
    "application/vnd.databricks.v1+cell": {
     "cellMetadata": {
      "byteLimit": 2048000,
      "rowLimit": 10000
     },
     "inputWidgets": {},
     "nuid": "84c55ca2-cc3f-45b8-ba44-2e7036b9567d",
     "showTitle": false,
     "title": ""
    }
   },
   "outputs": [
    {
     "name": "stdout",
     "output_type": "stream",
     "text": [
      "+-------+------+----------------+--------------------+----------------------+---------------------+--------------+\n",
      "|case_id|sex_id|hemoglobin_level|red_pixel_percentage|green_pixel_percentage|blue_pixel_percentage|anaemic_status|\n",
      "+-------+------+----------------+--------------------+----------------------+---------------------+--------------+\n",
      "|      1|     1|             6.3|             43.2555|               30.8421|              25.9025|             1|\n",
      "|      2|     2|            13.5|             45.6033|                 28.19|              26.2067|             0|\n",
      "|      3|     2|            11.7|             45.0107|               28.9677|              26.0215|             0|\n",
      "|      4|     2|            13.5|             44.5398|               28.9899|              26.4703|             0|\n",
      "|      5|     2|            12.4|              43.287|               30.6972|              26.0158|             0|\n",
      "|      6|     1|            16.2|             45.0994|               27.9645|              26.9361|             0|\n",
      "|      7|     2|             8.6|             43.1457|               30.1628|              26.6915|             1|\n",
      "|      8|     2|            10.3|             43.6103|               29.1099|              27.2798|             0|\n",
      "|      9|     2|              13|             45.0423|                29.166|              25.7918|             0|\n",
      "|     10|     2|             9.7|             46.5143|               27.4282|              26.0575|             1|\n",
      "|     11|     2|            12.6|             45.3506|               29.1248|              25.5246|             0|\n",
      "|     12|     2|            15.4|             44.4062|               28.9298|               26.664|             0|\n",
      "|     13|     2|             4.8|             44.9642|               30.5279|              24.5079|             1|\n",
      "|     14|     2|               9|             45.0484|               31.1049|              23.8467|             1|\n",
      "|     15|     2|            14.6|             46.9942|               26.0496|              26.9562|             0|\n",
      "|     16|     1|              14|             45.5842|               28.7311|              25.6848|             0|\n",
      "|     17|     2|              10|             42.5358|               30.1604|              27.3039|             1|\n",
      "|     18|     2|             8.3|             44.0957|               29.9973|               25.907|             1|\n",
      "|     19|     2|            13.6|             45.7104|               27.5693|              26.7204|             0|\n",
      "|     20|     2|             9.9|             40.9365|               31.9687|              27.0948|             1|\n",
      "+-------+------+----------------+--------------------+----------------------+---------------------+--------------+\n",
      "only showing top 20 rows\n",
      "\n"
     ]
    }
   ],
   "source": [
    "# Adicionar a coluna de sex_id ao DataFrame principal\n",
    "fact_df = df.withColumn(\"sex_id\", when(col(\"Sex\") == \"M\", 1).otherwise(2))\n",
    "\n",
    "# Selecionar e renomear colunas conforme necessário\n",
    "fact_df = fact_df.select(\n",
    "    col(\"Number\").alias(\"case_id\"),\n",
    "    col(\"sex_id\"),\n",
    "    col(\"Hb\").alias(\"hemoglobin_level\"),\n",
    "    col(\"%Red Pixel\").alias(\"red_pixel_percentage\"),\n",
    "    col(\"%Green pixel\").alias(\"green_pixel_percentage\"),\n",
    "    col(\"%Blue pixel\").alias(\"blue_pixel_percentage\"),\n",
    "    when(col(\"Anaemic\") == \"Yes\", 1).otherwise(0).alias(\"anaemic_status\")\n",
    ")\n",
    "\n",
    "# Mostrar o DataFrame para verificar\n",
    "fact_df.show()"
   ]
  },
  {
   "cell_type": "markdown",
   "metadata": {
    "application/vnd.databricks.v1+cell": {
     "cellMetadata": {
      "byteLimit": 2048000,
      "rowLimit": 10000
     },
     "inputWidgets": {},
     "nuid": "211d1e19-4b61-4345-9356-fdf8494921f8",
     "showTitle": false,
     "title": ""
    }
   },
   "source": [
    "### Loading data into fact table named 'fact_anaemia'"
   ]
  },
  {
   "cell_type": "code",
   "execution_count": null,
   "metadata": {
    "application/vnd.databricks.v1+cell": {
     "cellMetadata": {
      "byteLimit": 2048000,
      "rowLimit": 10000
     },
     "inputWidgets": {},
     "nuid": "dc5c3707-3bf8-4081-aa82-1ceadf28f46b",
     "showTitle": false,
     "title": ""
    }
   },
   "outputs": [],
   "source": [
    "# Conectar ao MySQL e inserir os dados\n",
    "fact_df.write \\\n",
    "    .format(\"mysql\") \\\n",
    "    .option(\"host\", mysql_host) \\\n",
    "    .option(\"database\", mysql_db) \\\n",
    "    .option(\"dbtable\", \"fact_anaemia\") \\\n",
    "    .option(\"user\", mysql_user) \\\n",
    "    .option(\"password\", mysql_password) \\\n",
    "    .save()"
   ]
  }
 ],
 "metadata": {
  "application/vnd.databricks.v1+notebook": {
   "dashboards": [],
   "environmentMetadata": null,
   "language": "python",
   "notebookMetadata": {
    "pythonIndentUnit": 4
   },
   "notebookName": "Load Dataset",
   "widgets": {}
  },
  "language_info": {
   "name": "python"
  }
 },
 "nbformat": 4,
 "nbformat_minor": 0
}
