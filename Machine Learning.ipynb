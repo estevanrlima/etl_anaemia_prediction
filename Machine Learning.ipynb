{
 "cells": [
  {
   "cell_type": "markdown",
   "metadata": {
    "application/vnd.databricks.v1+cell": {
     "cellMetadata": {
      "byteLimit": 2048000,
      "rowLimit": 10000
     },
     "inputWidgets": {},
     "nuid": "66ae2507-642f-48ec-8dbd-a974517db045",
     "showTitle": false,
     "title": ""
    }
   },
   "source": [
    "### Importando as bibliotecas"
   ]
  },
  {
   "cell_type": "code",
   "execution_count": null,
   "metadata": {
    "application/vnd.databricks.v1+cell": {
     "cellMetadata": {
      "byteLimit": 2048000,
      "rowLimit": 10000
     },
     "inputWidgets": {},
     "nuid": "a15c9bc4-2602-4359-b4ff-823e6f4e111d",
     "showTitle": false,
     "title": ""
    }
   },
   "outputs": [
    {
     "data": {
      "application/vnd.databricks.v1+bamboolib_hint": "{\"pd.DataFrames\": [], \"version\": \"0.0.1\"}",
      "text/plain": []
     },
     "metadata": {},
     "output_type": "display_data"
    }
   ],
   "source": [
    "import pymysql\n",
    "import pandas as pd\n",
    "from pyspark.sql import SparkSession\n",
    "from sklearn.model_selection import train_test_split\n",
    "from sklearn.preprocessing import StandardScaler\n",
    "from sklearn.linear_model import LogisticRegression\n",
    "from sklearn.metrics import accuracy_score, classification_report\n"
   ]
  },
  {
   "cell_type": "markdown",
   "metadata": {
    "application/vnd.databricks.v1+cell": {
     "cellMetadata": {
      "byteLimit": 2048000,
      "rowLimit": 10000
     },
     "inputWidgets": {},
     "nuid": "3f415f60-465d-47f4-a7d8-801c02f8f4ee",
     "showTitle": false,
     "title": ""
    }
   },
   "source": [
    "### Configurações do banco de dados MySQL"
   ]
  },
  {
   "cell_type": "code",
   "execution_count": null,
   "metadata": {
    "application/vnd.databricks.v1+cell": {
     "cellMetadata": {
      "byteLimit": 2048000,
      "rowLimit": 10000
     },
     "inputWidgets": {},
     "nuid": "467514ab-5072-4d35-890d-18b2e5c67767",
     "showTitle": false,
     "title": ""
    }
   },
   "outputs": [],
   "source": [
    "# Configurações do MySQL a partir das variáveis de ambiente\n",
    "mysql_host = os.getenv('MYSQL_HOST')\n",
    "mysql_port = int(os.getenv('MYSQL_PORT'))\n",
    "mysql_user = os.getenv('MYSQL_USER')\n",
    "mysql_password = os.getenv('MYSQL_PASSWORD')\n",
    "mysql_db = os.getenv('MYSQL_DB')\n",
    "mysql_table = os.getenv('MYSQL_TABLE')\n",
    "\n",
    "# Conectando ao MySQL\n",
    "connection = pymysql.connect(\n",
    "    host=mysql_host,\n",
    "    port=mysql_port,\n",
    "    user=mysql_user,\n",
    "    password=mysql_password,\n",
    "    database=mysql_db\n",
    ")"
   ]
  },
  {
   "cell_type": "markdown",
   "metadata": {
    "application/vnd.databricks.v1+cell": {
     "cellMetadata": {
      "byteLimit": 2048000,
      "rowLimit": 10000
     },
     "inputWidgets": {},
     "nuid": "b5fe5cbf-e72d-4c0e-aa81-5707dad909f0",
     "showTitle": false,
     "title": ""
    }
   },
   "source": [
    "#### Machine Learning"
   ]
  },
  {
   "cell_type": "code",
   "execution_count": null,
   "metadata": {
    "application/vnd.databricks.v1+cell": {
     "cellMetadata": {
      "byteLimit": 2048000,
      "rowLimit": 10000
     },
     "inputWidgets": {},
     "nuid": "aac256ee-a0d1-4e53-b640-a27b361baefd",
     "showTitle": false,
     "title": ""
    }
   },
   "outputs": [
    {
     "name": "stdout",
     "output_type": "stream",
     "text": [
      "Accuracy: 0.9375\n",
      "Classification Report:\n",
      "              precision    recall  f1-score   support\n",
      "\n",
      "           0       0.93      1.00      0.96        25\n",
      "           1       1.00      0.71      0.83         7\n",
      "\n",
      "    accuracy                           0.94        32\n",
      "   macro avg       0.96      0.86      0.90        32\n",
      "weighted avg       0.94      0.94      0.93        32\n",
      "\n"
     ]
    },
    {
     "name": "stderr",
     "output_type": "stream",
     "text": [
      "/databricks/python/lib/python3.9/site-packages/pandas/io/sql.py:761: UserWarning: pandas only support SQLAlchemy connectable(engine/connection) ordatabase string URI or sqlite3 DBAPI2 connectionother DBAPI2 objects are not tested, please consider using SQLAlchemy\n",
      "  warnings.warn(\n"
     ]
    }
   ],
   "source": [
    "\n",
    "# Carregar dados normalizados do MySQL\n",
    "query = \"\"\"\n",
    "SELECT\n",
    "    (red_pixel_percentage - (SELECT MIN(red_pixel_percentage) FROM fact_anaemia)) / \n",
    "    ((SELECT MAX(red_pixel_percentage) FROM fact_anaemia) - (SELECT MIN(red_pixel_percentage) FROM fact_anaemia)) AS norm_red_pixel_percentage,\n",
    "    (green_pixel_percentage - (SELECT MIN(green_pixel_percentage) FROM fact_anaemia)) / \n",
    "    ((SELECT MAX(green_pixel_percentage) FROM fact_anaemia) - (SELECT MIN(green_pixel_percentage) FROM fact_anaemia)) AS norm_green_pixel_percentage,\n",
    "    (blue_pixel_percentage - (SELECT MIN(blue_pixel_percentage) FROM fact_anaemia)) / \n",
    "    ((SELECT MAX(blue_pixel_percentage) FROM fact_anaemia) - (SELECT MIN(blue_pixel_percentage) FROM fact_anaemia)) AS norm_blue_pixel_percentage,\n",
    "    (hemoglobin_level - (SELECT MIN(hemoglobin_level) FROM fact_anaemia)) / \n",
    "    ((SELECT MAX(hemoglobin_level) FROM fact_anaemia) - (SELECT MIN(hemoglobin_level) FROM fact_anaemia)) AS norm_hemoglobin_level,\n",
    "    sex_id,\n",
    "    anaemic_status\n",
    "FROM fact_anaemia;\n",
    "\"\"\"\n",
    "\n",
    "# Ler dados do MySQL para um DataFrame do pandas\n",
    "df = pd.read_sql(query, connection)\n",
    "\n",
    "# Dividir dados em atributos e rótulos\n",
    "X = df.drop('anaemic_status', axis=1)\n",
    "y = df['anaemic_status']\n",
    "\n",
    "# Dividir os dados em conjuntos de treino e teste\n",
    "X_train, X_test, y_train, y_test = train_test_split(X, y, test_size=0.3, random_state=42)\n",
    "\n",
    "# Normalizar os dados\n",
    "scaler = StandardScaler()\n",
    "X_train = scaler.fit_transform(X_train)\n",
    "X_test = scaler.transform(X_test)\n",
    "\n",
    "# Treinar um modelo de regressão logística\n",
    "model = LogisticRegression()\n",
    "model.fit(X_train, y_train)\n",
    "\n",
    "# Fazer previsões no conjunto de teste\n",
    "y_pred = model.predict(X_test)\n",
    "\n",
    "# Avaliar o modelo\n",
    "accuracy = accuracy_score(y_test, y_pred)\n",
    "report = classification_report(y_test, y_pred)\n",
    "\n",
    "print(f\"Accuracy: {accuracy}\")\n",
    "print(\"Classification Report:\")\n",
    "print(report)\n"
   ]
  }
 ],
 "metadata": {
  "application/vnd.databricks.v1+notebook": {
   "dashboards": [],
   "environmentMetadata": null,
   "language": "python",
   "notebookMetadata": {
    "pythonIndentUnit": 4
   },
   "notebookName": "Machine Learning",
   "widgets": {}
  },
  "language_info": {
   "name": "python"
  }
 },
 "nbformat": 4,
 "nbformat_minor": 0
}
