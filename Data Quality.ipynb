{
 "cells": [
  {
   "cell_type": "markdown",
   "metadata": {
    "application/vnd.databricks.v1+cell": {
     "cellMetadata": {
      "byteLimit": 2048000,
      "rowLimit": 10000
     },
     "inputWidgets": {},
     "nuid": "928a315c-af07-4c67-a459-d76b7e613202",
     "showTitle": false,
     "title": ""
    }
   },
   "source": [
    "### Importando bibliotecas"
   ]
  },
  {
   "cell_type": "code",
   "execution_count": null,
   "metadata": {
    "application/vnd.databricks.v1+cell": {
     "cellMetadata": {
      "byteLimit": 2048000,
      "rowLimit": 10000
     },
     "inputWidgets": {},
     "nuid": "5084145b-0372-423d-b74f-1c7a557387c4",
     "showTitle": false,
     "title": ""
    }
   },
   "outputs": [
    {
     "data": {
      "application/vnd.databricks.v1+bamboolib_hint": "{\"pd.DataFrames\": [], \"version\": \"0.0.1\"}",
      "text/plain": []
     },
     "metadata": {},
     "output_type": "display_data"
    }
   ],
   "source": [
    "import os\n",
    "import pymysql\n",
    "import pandas as pd\n",
    "from pyspark.sql import SparkSession"
   ]
  },
  {
   "cell_type": "markdown",
   "metadata": {
    "application/vnd.databricks.v1+cell": {
     "cellMetadata": {
      "byteLimit": 2048000,
      "rowLimit": 10000
     },
     "inputWidgets": {},
     "nuid": "c22ac701-ff23-4dce-b287-073368b7ff74",
     "showTitle": false,
     "title": ""
    }
   },
   "source": [
    "### Configurações do banco de dados MySQL"
   ]
  },
  {
   "cell_type": "code",
   "execution_count": null,
   "metadata": {
    "application/vnd.databricks.v1+cell": {
     "cellMetadata": {
      "byteLimit": 2048000,
      "rowLimit": 10000
     },
     "inputWidgets": {},
     "nuid": "5ed0d9d0-5aa8-4897-af88-bae1d1d0f7ed",
     "showTitle": false,
     "title": ""
    }
   },
   "outputs": [],
   "source": [
    "# Configurações do MySQL a partir das variáveis de ambiente\n",
    "mysql_host = os.getenv('MYSQL_HOST')\n",
    "mysql_port = int(os.getenv('MYSQL_PORT'))\n",
    "mysql_user = os.getenv('MYSQL_USER')\n",
    "mysql_password = os.getenv('MYSQL_PASSWORD')\n",
    "mysql_db = os.getenv('MYSQL_DB')\n",
    "mysql_table = os.getenv('MYSQL_TABLE')\n",
    "\n",
    "# Conectando ao MySQL\n",
    "connection = pymysql.connect(\n",
    "    host=mysql_host,\n",
    "    port=mysql_port,\n",
    "    user=mysql_user,\n",
    "    password=mysql_password,\n",
    "    database=mysql_db\n",
    ")"
   ]
  },
  {
   "cell_type": "markdown",
   "metadata": {
    "application/vnd.databricks.v1+cell": {
     "cellMetadata": {
      "byteLimit": 2048000,
      "rowLimit": 10000
     },
     "inputWidgets": {},
     "nuid": "ce53d8d4-2535-4fe1-a8dd-2935d43eadb5",
     "showTitle": false,
     "title": ""
    }
   },
   "source": [
    "### Leitura dos dados"
   ]
  },
  {
   "cell_type": "code",
   "execution_count": null,
   "metadata": {
    "application/vnd.databricks.v1+cell": {
     "cellMetadata": {
      "byteLimit": 2048000,
      "rowLimit": 10000
     },
     "inputWidgets": {},
     "nuid": "de5f2eac-b4b4-4054-ae2a-da3a496bc2c4",
     "showTitle": false,
     "title": ""
    }
   },
   "outputs": [
    {
     "name": "stderr",
     "output_type": "stream",
     "text": [
      "/databricks/python/lib/python3.9/site-packages/pandas/io/sql.py:761: UserWarning: pandas only support SQLAlchemy connectable(engine/connection) ordatabase string URI or sqlite3 DBAPI2 connectionother DBAPI2 objects are not tested, please consider using SQLAlchemy\n",
      "  warnings.warn(\n"
     ]
    },
    {
     "name": "stdout",
     "output_type": "stream",
     "text": [
      "+-------+------+----------------+--------------------+----------------------+---------------------+--------------+\n",
      "|case_id|sex_id|hemoglobin_level|red_pixel_percentage|green_pixel_percentage|blue_pixel_percentage|anaemic_status|\n",
      "+-------+------+----------------+--------------------+----------------------+---------------------+--------------+\n",
      "|      1|     1|             6.3|             43.2555|               30.8421|              25.9025|             1|\n",
      "|      2|     2|            13.5|             45.6033|                 28.19|              26.2067|             0|\n",
      "|      3|     2|            11.7|             45.0107|               28.9677|              26.0215|             0|\n",
      "|      4|     2|            13.5|             44.5398|               28.9899|              26.4703|             0|\n",
      "|      5|     2|            12.4|              43.287|               30.6972|              26.0158|             0|\n",
      "|      6|     1|            16.2|             45.0994|               27.9645|              26.9361|             0|\n",
      "|      7|     2|             8.6|             43.1457|               30.1628|              26.6915|             1|\n",
      "|      8|     2|            10.3|             43.6103|               29.1099|              27.2798|             0|\n",
      "|      9|     2|              13|             45.0423|                29.166|              25.7918|             0|\n",
      "|     10|     2|             9.7|             46.5143|               27.4282|              26.0575|             1|\n",
      "|     11|     2|            12.6|             45.3506|               29.1248|              25.5246|             0|\n",
      "|     12|     2|            15.4|             44.4062|               28.9298|               26.664|             0|\n",
      "|     13|     2|             4.8|             44.9642|               30.5279|              24.5079|             1|\n",
      "|     14|     2|               9|             45.0484|               31.1049|              23.8467|             1|\n",
      "|     15|     2|            14.6|             46.9942|               26.0496|              26.9562|             0|\n",
      "|     16|     1|              14|             45.5842|               28.7311|              25.6848|             0|\n",
      "|     17|     2|              10|             42.5358|               30.1604|              27.3039|             1|\n",
      "|     18|     2|             8.3|             44.0957|               29.9973|               25.907|             1|\n",
      "|     19|     2|            13.6|             45.7104|               27.5693|              26.7204|             0|\n",
      "|     20|     2|             9.9|             40.9365|               31.9687|              27.0948|             1|\n",
      "+-------+------+----------------+--------------------+----------------------+---------------------+--------------+\n",
      "only showing top 20 rows\n",
      "\n"
     ]
    }
   ],
   "source": [
    "# Lendo dados da tabela para um DataFrame do pandas\n",
    "query = f\"SELECT * FROM {mysql_table}\"\n",
    "df = pd.read_sql(query, connection)\n",
    "\n",
    "# Convertendo o DataFrame do pandas para um DataFrame do Spark\n",
    "spark = SparkSession.builder.appName(\"Read MySQL Table\").getOrCreate()\n",
    "spark_df = spark.createDataFrame(df)\n",
    "\n",
    "# Exibindo os dados\n",
    "spark_df.show()\n"
   ]
  },
  {
   "cell_type": "markdown",
   "metadata": {
    "application/vnd.databricks.v1+cell": {
     "cellMetadata": {
      "byteLimit": 2048000,
      "rowLimit": 10000
     },
     "inputWidgets": {},
     "nuid": "9132eaa3-d54e-451b-90c6-a7a742e285ff",
     "showTitle": false,
     "title": ""
    }
   },
   "source": [
    "### Análise da qualidade dos dados"
   ]
  },
  {
   "cell_type": "markdown",
   "metadata": {
    "application/vnd.databricks.v1+cell": {
     "cellMetadata": {
      "byteLimit": 2048000,
      "rowLimit": 10000
     },
     "inputWidgets": {},
     "nuid": "3d3cdb25-8e24-4569-a930-48006fbab250",
     "showTitle": false,
     "title": ""
    }
   },
   "source": [
    "#### Valores Faltantes\n"
   ]
  },
  {
   "cell_type": "code",
   "execution_count": null,
   "metadata": {
    "application/vnd.databricks.v1+cell": {
     "cellMetadata": {
      "byteLimit": 2048000,
      "rowLimit": 10000
     },
     "inputWidgets": {},
     "nuid": "4c2a2b5d-22a9-440f-9cf8-740f4894bd1a",
     "showTitle": false,
     "title": ""
    }
   },
   "outputs": [
    {
     "name": "stdout",
     "output_type": "stream",
     "text": [
      "+-------+------+----------------+--------------------+----------------------+---------------------+--------------+\n",
      "|case_id|sex_id|hemoglobin_level|red_pixel_percentage|green_pixel_percentage|blue_pixel_percentage|anaemic_status|\n",
      "+-------+------+----------------+--------------------+----------------------+---------------------+--------------+\n",
      "|      0|     0|               0|                   0|                     0|                    0|             0|\n",
      "+-------+------+----------------+--------------------+----------------------+---------------------+--------------+\n",
      "\n"
     ]
    }
   ],
   "source": [
    "from pyspark.sql.functions import col, count, countDistinct, when\n",
    "\n",
    "# Contar valores nulos por coluna\n",
    "spark_df.select([count(when(col(c).isNull(), c)).alias(c) for c in spark_df.columns]).show()\n"
   ]
  },
  {
   "cell_type": "markdown",
   "metadata": {
    "application/vnd.databricks.v1+cell": {
     "cellMetadata": {
      "byteLimit": 2048000,
      "rowLimit": 10000
     },
     "inputWidgets": {},
     "nuid": "a19659f6-4fdf-4d3c-877a-d859912868ae",
     "showTitle": false,
     "title": ""
    }
   },
   "source": [
    "#### Valores Únicos e Distribuição"
   ]
  },
  {
   "cell_type": "code",
   "execution_count": null,
   "metadata": {
    "application/vnd.databricks.v1+cell": {
     "cellMetadata": {
      "byteLimit": 2048000,
      "rowLimit": 10000
     },
     "inputWidgets": {},
     "nuid": "cc48a887-009e-4752-918b-1477f2be9ab8",
     "showTitle": false,
     "title": ""
    }
   },
   "outputs": [
    {
     "name": "stdout",
     "output_type": "stream",
     "text": [
      "+-------+------+----------------+--------------------+----------------------+---------------------+--------------+\n",
      "|case_id|sex_id|hemoglobin_level|red_pixel_percentage|green_pixel_percentage|blue_pixel_percentage|anaemic_status|\n",
      "+-------+------+----------------+--------------------+----------------------+---------------------+--------------+\n",
      "|    104|     2|              62|                 103|                   103|                  103|             2|\n",
      "+-------+------+----------------+--------------------+----------------------+---------------------+--------------+\n",
      "\n",
      "+------+-----+\n",
      "|sex_id|count|\n",
      "+------+-----+\n",
      "|     1|   26|\n",
      "|     2|   78|\n",
      "+------+-----+\n",
      "\n",
      "+--------------+-----+\n",
      "|anaemic_status|count|\n",
      "+--------------+-----+\n",
      "|             0|   78|\n",
      "|             1|   26|\n",
      "+--------------+-----+\n",
      "\n"
     ]
    }
   ],
   "source": [
    "# Valores únicos por coluna\n",
    "spark_df.select([countDistinct(c).alias(c) for c in spark_df.columns]).show()\n",
    "\n",
    "# Contagem de valores por coluna (para categóricas)\n",
    "spark_df.groupBy(\"sex_id\").count().show()\n",
    "spark_df.groupBy(\"anaemic_status\").count().show()"
   ]
  },
  {
   "cell_type": "markdown",
   "metadata": {
    "application/vnd.databricks.v1+cell": {
     "cellMetadata": {},
     "inputWidgets": {},
     "nuid": "a68c09ad-1263-421b-93d8-e85c5cb11abc",
     "showTitle": false,
     "title": ""
    }
   },
   "source": [
    "#### Estatísticas Descritivas"
   ]
  },
  {
   "cell_type": "code",
   "execution_count": null,
   "metadata": {
    "application/vnd.databricks.v1+cell": {
     "cellMetadata": {
      "byteLimit": 2048000,
      "rowLimit": 10000
     },
     "inputWidgets": {},
     "nuid": "0db10076-cea7-48b4-b44c-66cd8d112937",
     "showTitle": false,
     "title": ""
    }
   },
   "outputs": [
    {
     "name": "stdout",
     "output_type": "stream",
     "text": [
      "+-------+--------------------+----------------------+---------------------+------------------+\n",
      "|summary|red_pixel_percentage|green_pixel_percentage|blue_pixel_percentage|  hemoglobin_level|\n",
      "+-------+--------------------+----------------------+---------------------+------------------+\n",
      "|  count|                 104|                   104|                  104|               104|\n",
      "|   mean|           45.654175|     28.87550673076923|   25.470325000000003|12.150961538461539|\n",
      "| stddev|  2.8162939069011492|    1.5542751246668467|   1.9846714900084668| 2.512956530220567|\n",
      "|    min|             38.7968|               25.1403|              19.5413|                10|\n",
      "|    max|             54.6478|               32.3681|              29.8414|               9.9|\n",
      "+-------+--------------------+----------------------+---------------------+------------------+\n",
      "\n"
     ]
    }
   ],
   "source": [
    "# Estatísticas descritivas para colunas numéricas\n",
    "spark_df.describe([\"red_pixel_percentage\", \"green_pixel_percentage\", \"blue_pixel_percentage\", \"hemoglobin_level\"]).show()"
   ]
  },
  {
   "cell_type": "markdown",
   "metadata": {
    "application/vnd.databricks.v1+cell": {
     "cellMetadata": {},
     "inputWidgets": {},
     "nuid": "d1fd554f-3540-4481-9d95-c253f843368c",
     "showTitle": false,
     "title": ""
    }
   },
   "source": [
    "####  Tratamento de Outliers"
   ]
  },
  {
   "cell_type": "code",
   "execution_count": null,
   "metadata": {
    "application/vnd.databricks.v1+cell": {
     "cellMetadata": {
      "byteLimit": 2048000,
      "rowLimit": 10000
     },
     "inputWidgets": {},
     "nuid": "5ac51cf4-a7f3-45ed-9a2d-11fcd064eb91",
     "showTitle": false,
     "title": ""
    }
   },
   "outputs": [
    {
     "name": "stdout",
     "output_type": "stream",
     "text": [
      "+-------+------+----------------+--------------------+----------------------+---------------------+--------------+\n",
      "|case_id|sex_id|hemoglobin_level|red_pixel_percentage|green_pixel_percentage|blue_pixel_percentage|anaemic_status|\n",
      "+-------+------+----------------+--------------------+----------------------+---------------------+--------------+\n",
      "|      1|     1|             6.3|             43.2555|               30.8421|              25.9025|             1|\n",
      "|      2|     2|            13.5|             45.6033|                 28.19|              26.2067|             0|\n",
      "|      3|     2|            11.7|             45.0107|               28.9677|              26.0215|             0|\n",
      "|      4|     2|            13.5|             44.5398|               28.9899|              26.4703|             0|\n",
      "|      5|     2|            12.4|              43.287|               30.6972|              26.0158|             0|\n",
      "|      6|     1|            16.2|             45.0994|               27.9645|              26.9361|             0|\n",
      "|      7|     2|             8.6|             43.1457|               30.1628|              26.6915|             1|\n",
      "|      8|     2|            10.3|             43.6103|               29.1099|              27.2798|             0|\n",
      "|      9|     2|            13.0|             45.0423|                29.166|              25.7918|             0|\n",
      "|     10|     2|             9.7|             46.5143|               27.4282|              26.0575|             1|\n",
      "|     11|     2|            12.6|             45.3506|               29.1248|              25.5246|             0|\n",
      "|     12|     2|            15.4|             44.4062|               28.9298|               26.664|             0|\n",
      "|     14|     2|             9.0|             45.0484|               31.1049|              23.8467|             1|\n",
      "|     15|     2|            14.6|             46.9942|               26.0496|              26.9562|             0|\n",
      "|     16|     1|            14.0|             45.5842|               28.7311|              25.6848|             0|\n",
      "|     17|     2|            10.0|             42.5358|               30.1604|              27.3039|             1|\n",
      "|     18|     2|             8.3|             44.0957|               29.9973|               25.907|             1|\n",
      "|     19|     2|            13.6|             45.7104|               27.5693|              26.7204|             0|\n",
      "|     20|     2|             9.9|             40.9365|               31.9687|              27.0948|             1|\n",
      "|     21|     2|            11.6|             44.9116|               30.3761|              24.7123|             0|\n",
      "+-------+------+----------------+--------------------+----------------------+---------------------+--------------+\n",
      "only showing top 20 rows\n",
      "\n"
     ]
    }
   ],
   "source": [
    "# Converter colunas de string para float\n",
    "spark_df = spark_df.withColumn(\"red_pixel_percentage\", col(\"red_pixel_percentage\").cast(\"float\"))\n",
    "spark_df = spark_df.withColumn(\"green_pixel_percentage\", col(\"green_pixel_percentage\").cast(\"float\"))\n",
    "spark_df = spark_df.withColumn(\"blue_pixel_percentage\", col(\"blue_pixel_percentage\").cast(\"float\"))\n",
    "spark_df = spark_df.withColumn(\"hemoglobin_level\", col(\"hemoglobin_level\").cast(\"float\"))\n",
    "\n",
    "# Utilizar o IQR (Interquartile Range) para detectar outliers\n",
    "def outlier_boundaries(df, column):\n",
    "    q1, q3 = df.approxQuantile(column, [0.25, 0.75], 0)\n",
    "    iqr = q3 - q1\n",
    "    lower_bound = q1 - 1.5 * iqr\n",
    "    upper_bound = q3 + 1.5 * iqr\n",
    "    return lower_bound, upper_bound\n",
    "\n",
    "red_pixel_bounds = outlier_boundaries(spark_df, \"red_pixel_percentage\")\n",
    "green_pixel_bounds = outlier_boundaries(spark_df, \"green_pixel_percentage\")\n",
    "blue_pixel_bounds = outlier_boundaries(spark_df, \"blue_pixel_percentage\")\n",
    "hb_bounds = outlier_boundaries(spark_df, \"hemoglobin_level\")\n",
    "\n",
    "# Filtrar outliers\n",
    "spark_df_filtered = spark_df.filter((col(\"red_pixel_percentage\").between(*red_pixel_bounds)) & \n",
    "                                    (col(\"green_pixel_percentage\").between(*green_pixel_bounds)) & \n",
    "                                    (col(\"blue_pixel_percentage\").between(*blue_pixel_bounds)) & \n",
    "                                    (col(\"hemoglobin_level\").between(*hb_bounds)))\n",
    "\n",
    "# Mostrar os dados filtrados\n",
    "spark_df_filtered.show()\n"
   ]
  },
  {
   "cell_type": "code",
   "execution_count": null,
   "metadata": {
    "application/vnd.databricks.v1+cell": {
     "cellMetadata": {
      "byteLimit": 2048000,
      "rowLimit": 10000
     },
     "inputWidgets": {},
     "nuid": "c8af0dad-4cee-4495-b2c8-f707b8cf5599",
     "showTitle": false,
     "title": ""
    }
   },
   "outputs": [
    {
     "name": "stdout",
     "output_type": "stream",
     "text": [
      "Total de registros no DataFrame original: 104\n",
      "Total de registros no DataFrame filtrado: 91\n"
     ]
    }
   ],
   "source": [
    "original_count = spark_df.count()\n",
    "print(f\"Total de registros no DataFrame original: {original_count}\")\n",
    "\n",
    "filtered_count = spark_df_filtered.count()\n",
    "print(f\"Total de registros no DataFrame filtrado: {filtered_count}\")\n"
   ]
  }
 ],
 "metadata": {
  "application/vnd.databricks.v1+notebook": {
   "dashboards": [],
   "environmentMetadata": null,
   "language": "python",
   "notebookMetadata": {
    "pythonIndentUnit": 4
   },
   "notebookName": "Data Quality",
   "widgets": {}
  },
  "language_info": {
   "name": "python"
  }
 },
 "nbformat": 4,
 "nbformat_minor": 0
}
